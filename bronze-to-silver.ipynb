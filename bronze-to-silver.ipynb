{
 "cells": [
  {
   "cell_type": "markdown",
   "metadata": {
    "application/vnd.databricks.v1+cell": {
     "cellMetadata": {
      "byteLimit": 2048000,
      "rowLimit": 10000
     },
     "inputWidgets": {},
     "nuid": "173a4832-709b-4d07-b39f-40ebfd9d6b3a",
     "showTitle": false,
     "title": ""
    }
   },
   "source": [
    "# Databricks notebook source\n",
    "configs = {\n",
    "  \"fs.azure.account.auth.type\": \"CustomAccessToken\",\n",
    "  \"fs.azure.account.custom.token.provider.class\": spark.conf.get(\"spark.databricks.passthrough.adls.gen2.tokenProviderClassName\")\n",
    "}\n",
    "\n",
    "# Optionally, you can add <directory-name> to the source URI of your mount point.\n",
    "dbutils.fs.mount(\n",
    "  source = \"abfss://sales-data@dataprojectstorage.dfs.core.windows.net/\",\n",
    "  mount_point = \"/mnt/sales-data\",\n",
    "  extra_configs = configs)\n"
   ]
  },
  {
   "cell_type": "code",
   "execution_count": 0,
   "metadata": {
    "application/vnd.databricks.v1+cell": {
     "cellMetadata": {
      "byteLimit": 2048000,
      "rowLimit": 10000
     },
     "inputWidgets": {},
     "nuid": "7bd83526-a23e-4217-9de0-d15548941578",
     "showTitle": false,
     "title": ""
    }
   },
   "outputs": [
    {
     "output_type": "execute_result",
     "data": {
      "text/plain": [
       "[FileInfo(path='dbfs:/mnt/sales-data/bronze/SalesLT/Address/', name='Address/', size=0, modificationTime=1728217724000),\n",
       " FileInfo(path='dbfs:/mnt/sales-data/bronze/SalesLT/Customer/', name='Customer/', size=0, modificationTime=1728217725000),\n",
       " FileInfo(path='dbfs:/mnt/sales-data/bronze/SalesLT/CustomerAddress/', name='CustomerAddress/', size=0, modificationTime=1728217723000),\n",
       " FileInfo(path='dbfs:/mnt/sales-data/bronze/SalesLT/Product/', name='Product/', size=0, modificationTime=1728217725000),\n",
       " FileInfo(path='dbfs:/mnt/sales-data/bronze/SalesLT/ProductCategory/', name='ProductCategory/', size=0, modificationTime=1728217728000),\n",
       " FileInfo(path='dbfs:/mnt/sales-data/bronze/SalesLT/ProductDescription/', name='ProductDescription/', size=0, modificationTime=1728217725000),\n",
       " FileInfo(path='dbfs:/mnt/sales-data/bronze/SalesLT/ProductModel/', name='ProductModel/', size=0, modificationTime=1728217725000),\n",
       " FileInfo(path='dbfs:/mnt/sales-data/bronze/SalesLT/ProductModelProductDescription/', name='ProductModelProductDescription/', size=0, modificationTime=1728217725000),\n",
       " FileInfo(path='dbfs:/mnt/sales-data/bronze/SalesLT/SalesOrderDetail/', name='SalesOrderDetail/', size=0, modificationTime=1728217726000),\n",
       " FileInfo(path='dbfs:/mnt/sales-data/bronze/SalesLT/SalesOrderHeader/', name='SalesOrderHeader/', size=0, modificationTime=1728217725000)]"
      ]
     },
     "execution_count": 9,
     "metadata": {},
     "output_type": "execute_result"
    }
   ],
   "source": [
    "\n",
    "# COMMAND ----------\n",
    "\n",
    "dbutils.fs.ls(\"/mnt/sales-data/bronze/SalesLT/\")"
   ]
  },
  {
   "cell_type": "code",
   "execution_count": 0,
   "metadata": {
    "application/vnd.databricks.v1+cell": {
     "cellMetadata": {
      "byteLimit": 2048000,
      "rowLimit": 10000
     },
     "inputWidgets": {},
     "nuid": "f2a87674-930c-4f51-af16-0d663e975b0f",
     "showTitle": false,
     "title": ""
    }
   },
   "outputs": [
    {
     "output_type": "execute_result",
     "data": {
      "text/plain": [
       "[FileInfo(path='dbfs:/mnt/sales-data/bronze/SalesLT/', name='SalesLT/', size=0, modificationTime=1728217723000)]"
      ]
     },
     "execution_count": 10,
     "metadata": {},
     "output_type": "execute_result"
    }
   ],
   "source": [
    "dbutils.fs.ls(\"/mnt/sales-data/bronze\")"
   ]
  },
  {
   "cell_type": "code",
   "execution_count": 0,
   "metadata": {
    "application/vnd.databricks.v1+cell": {
     "cellMetadata": {
      "byteLimit": 2048000,
      "rowLimit": 10000
     },
     "inputWidgets": {},
     "nuid": "79f768c5-2c7a-47b9-8ea2-eb092783b613",
     "showTitle": false,
     "title": ""
    }
   },
   "outputs": [
    {
     "output_type": "stream",
     "name": "stdout",
     "output_type": "stream",
     "text": [
      "Address/\nCustomer/\nCustomerAddress/\nProduct/\nProductCategory/\nProductDescription/\nProductModel/\nProductModelProductDescription/\nSalesOrderDetail/\nSalesOrderHeader/\n"
     ]
    }
   ],
   "source": [
    "table_name = []\n",
    "\n",
    "for i in dbutils.fs.ls('mnt/sales-data/bronze/SalesLT/'):\n",
    "  print(i.name)\n",
    "  table_name.append(i.name.split('/')[0])"
   ]
  },
  {
   "cell_type": "code",
   "execution_count": 0,
   "metadata": {
    "application/vnd.databricks.v1+cell": {
     "cellMetadata": {
      "byteLimit": 2048000,
      "rowLimit": 10000
     },
     "inputWidgets": {},
     "nuid": "e75bcb49-b8b4-4200-9196-91c8d0b4f011",
     "showTitle": false,
     "title": ""
    }
   },
   "outputs": [
    {
     "output_type": "execute_result",
     "data": {
      "text/plain": [
       "['Address',\n",
       " 'Customer',\n",
       " 'CustomerAddress',\n",
       " 'Product',\n",
       " 'ProductCategory',\n",
       " 'ProductDescription',\n",
       " 'ProductModel',\n",
       " 'ProductModelProductDescription',\n",
       " 'SalesOrderDetail',\n",
       " 'SalesOrderHeader']"
      ]
     },
     "execution_count": 12,
     "metadata": {},
     "output_type": "execute_result"
    }
   ],
   "source": [
    "table_name"
   ]
  },
  {
   "cell_type": "code",
   "execution_count": 0,
   "metadata": {
    "application/vnd.databricks.v1+cell": {
     "cellMetadata": {
      "byteLimit": 2048000,
      "rowLimit": 10000
     },
     "inputWidgets": {},
     "nuid": "d9f6ca89-b1d2-460f-9897-8c255e8c42e0",
     "showTitle": false,
     "title": ""
    }
   },
   "outputs": [],
   "source": [
    "\n",
    "from pyspark.sql.functions import from_utc_timestamp, date_format\n",
    "from pyspark.sql.types import TimestampType\n",
    "\n",
    "for i in table_name:\n",
    "  path = '/mnt/sales-data/bronze/SalesLT/' + i + '/' + i + '.parquet'\n",
    "  df = spark.read.format('parquet').load(path)\n",
    "  column = df.columns\n",
    "\n",
    "  for col in column:\n",
    "    if \"Date\" in col or \"date\" in col:\n",
    "      df = df.withColumn(col, date_format(from_utc_timestamp(df[col].cast(TimestampType()), \"UTC\"), \"yyyy-MM-dd\"))\n",
    "\n",
    "  output_path = '/mnt/sales-data/silver/SalesLT/' +i +'/'\n",
    "  df.write.format('delta').mode(\"overwrite\").save(output_path)\n"
   ]
  }
 ],
 "metadata": {
  "application/vnd.databricks.v1+notebook": {
   "dashboards": [],
   "environmentMetadata": null,
   "language": "python",
   "notebookMetadata": {
    "pythonIndentUnit": 4
   },
   "notebookName": "bronze-to-silver",
   "widgets": {}
  }
 },
 "nbformat": 4,
 "nbformat_minor": 0
}
